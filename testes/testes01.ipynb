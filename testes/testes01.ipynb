{
 "cells": [
  {
   "cell_type": "code",
   "execution_count": 3,
   "metadata": {},
   "outputs": [
    {
     "name": "stdout",
     "output_type": "stream",
     "text": [
      "51\n"
     ]
    }
   ],
   "source": [
    "# nome=input('Qual é o seu nome?')\n",
    "# idade=input('Qual a sua idade?')\n",
    "# peso=input('Qual o seu peso?')\n",
    "# nascimento=input('Qual sua data de nascimento? (DD/MM/AA)')\n",
    "# print('seu nome é',nome,'e pesa',peso,'kg')\n",
    "# print('você nasceu em' ,nascimento,'portanto tem', idade, 'anos')\n",
    "n1=input('digite um número')\n",
    "n2=input('digite outro número')\n",
    "print(n1+n2)"
   ]
  }
 ],
 "metadata": {
  "kernelspec": {
   "display_name": "Python 3.10.5 64-bit",
   "language": "python",
   "name": "python3"
  },
  "language_info": {
   "codemirror_mode": {
    "name": "ipython",
    "version": 3
   },
   "file_extension": ".py",
   "mimetype": "text/x-python",
   "name": "python",
   "nbconvert_exporter": "python",
   "pygments_lexer": "ipython3",
   "version": "3.10.5"
  },
  "orig_nbformat": 4,
  "vscode": {
   "interpreter": {
    "hash": "e7370f93d1d0cde622a1f8e1c04877d8463912d04d973331ad4851f04de6915a"
   }
  }
 },
 "nbformat": 4,
 "nbformat_minor": 2
}
